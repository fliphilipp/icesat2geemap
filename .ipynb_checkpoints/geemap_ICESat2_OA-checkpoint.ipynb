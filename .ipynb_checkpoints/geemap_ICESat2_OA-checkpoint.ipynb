{
 "cells": [
  {
   "cell_type": "code",
   "execution_count": null,
   "id": "4855f3e7-3283-43ff-9339-2a9f9fe09f06",
   "metadata": {},
   "outputs": [],
   "source": [
    "%matplotlib widget\n",
    "import matplotlib.pylab as plt\n",
    "import numpy as np\n",
    "import ee\n",
    "import geemap\n",
    "ee.Initialize()"
   ]
  },
  {
   "cell_type": "code",
   "execution_count": null,
   "id": "10854396-2bdf-4b28-86f1-299ae2d8b797",
   "metadata": {},
   "outputs": [],
   "source": [
    "from oautils import dataCollector"
   ]
  },
  {
   "cell_type": "code",
   "execution_count": 2,
   "id": "175c6fc5-ef9d-4ee4-b9a4-454289fa0dd0",
   "metadata": {},
   "outputs": [
    {
     "name": "stdout",
     "output_type": "stream",
     "text": [
      "gee-env\n"
     ]
    }
   ],
   "source": [
    "# to figure out which env we're in (there must be a better way...)\n",
    "import sys\n",
    "for p in sys.path: \n",
    "    if '/envs/' in p: print(p[p.find('/envs/')+6:p.find('/lib/')]); break;"
   ]
  },
  {
   "cell_type": "code",
   "execution_count": 3,
   "id": "674254c7-346c-44b8-b4c8-fe750cebb7e4",
   "metadata": {},
   "outputs": [],
   "source": [
    "# # a utility class for quickly pulling data from openaltimetry \n",
    "# class dataCollector:\n",
    "#     def __init__(self, beam=None, oaurl=None, track=None, date=None, latlims=None, lonlims=None):\n",
    "#         if (beam is None) or ((oaurl is None) and (None in [track, date, latlims, lonlims])):\n",
    "#             raise Exception('''Please specify a beam and \n",
    "#             - either: an OpenAltimetry API url, \n",
    "#             - or: a track, date, latitude limits and longitude limits.''')\n",
    "#         else:\n",
    "#             if oaurl is not None:\n",
    "#                 url = oaurl\n",
    "#                 tofind = '&beamName='\n",
    "#                 ids = url.find(tofind)\n",
    "#                 while ids>-1:\n",
    "#                     url = url.replace(url[ids:ids+len(tofind)+4],'')\n",
    "#                     ids = url.find(tofind)\n",
    "#                 iprod = url.find('/atl')\n",
    "#                 url = url.replace(url[iprod:iprod+6],'/atlXX')\n",
    "#                 url += tofind + beam + '&client=jupyter'\n",
    "\n",
    "#                 idate = url.find('date=') + len('date=')\n",
    "#                 date = url[idate:idate+10]\n",
    "#                 itrack = url.find('trackId=') + len('trackId=')\n",
    "#                 trackend = url[itrack:].find('&')\n",
    "#                 track = int(url[itrack:itrack+trackend])\n",
    "#                 bb = []\n",
    "#                 for s in ['minx=', 'maxx=', 'miny=', 'maxy=']:\n",
    "#                     ids = url.find(s) + len(s)\n",
    "#                     ide = url[ids:].find('&')\n",
    "#                     bb.append(float(url[ids:ids+ide]))\n",
    "#                 lonlims = bb[:2]\n",
    "#                 latlims = bb[2:]\n",
    "#             elif None not in [track, date, latlims, lonlims]:\n",
    "#                 url = 'https://openaltimetry.org/data/api/icesat2/atlXX?'\n",
    "#                 url += 'date={date}&minx={minx}&miny={miny}&maxx={maxx}&maxy={maxy}&trackId={track}&beamName={beam}'.format(\n",
    "#                         date=date,minx=lonlims[0],miny=latlims[0],maxx=lonlims[1],maxy=latlims[1],track=track,beam=beam)\n",
    "#                 url += '&outputFormat=json&client=jupyter'\n",
    "            \n",
    "#             self.url = url\n",
    "#             self.date = date\n",
    "#             self.track = track\n",
    "#             self.beam = beam\n",
    "#             self.latlims = latlims\n",
    "#             self.lonlims = lonlims\n",
    "#             print('OpenAltimetry API URL:', self.url)\n",
    "#             print('Date:', self.date)\n",
    "#             print('Track:', self.track)\n",
    "#             print('Beam:', self.beam)\n",
    "#             print('Latitude limits:', self.latlims)\n",
    "#             print('Longitude limits:', self.lonlims)\n",
    "            \n",
    "#     def requestData(self):\n",
    "#         import pandas as pd\n",
    "#         import json\n",
    "#         import requests\n",
    "        \n",
    "#         print('---> requesting ATL03 data...',end='')\n",
    "#         product = 'atl03'\n",
    "#         request_url = self.url.replace('atlXX',product)\n",
    "#         data = requests.get(request_url).json()\n",
    "#         lat, lon, h, confs = [], [], [], []\n",
    "#         for beam in data:\n",
    "#             for confidence in beam['series']:\n",
    "#                 for p in confidence['data']:\n",
    "#                     confs.append(confidence['name'])\n",
    "#                     lat.append(p[0])\n",
    "#                     lon.append(p[1])\n",
    "#                     h.append(p[2])\n",
    "#         self.atl03 = pd.DataFrame(list(zip(lat,lon,h,confs)), columns = ['lat','lon','h','conf'])\n",
    "#         print(' Done.')\n",
    "        \n",
    "#         print('---> requesting ATL06 data...',end='')\n",
    "#         product = 'atl06'\n",
    "#         request_url = self.url.replace('atlXX',product)\n",
    "#         data = requests.get(request_url).json()\n",
    "#         self.atl06 = pd.DataFrame(data['series'][0]['lat_lon_elev'], columns = ['lat','lon','h'])\n",
    "#         print(' Done.')\n",
    "        \n",
    "#         print('---> requesting ATL08 data...',end='')\n",
    "#         product = 'atl08'\n",
    "#         request_url = self.url.replace('atlXX',product)\n",
    "#         data = requests.get(request_url).json()\n",
    "#         self.atl08 = pd.DataFrame(data['series'][0]['lat_lon_elev_canopy'], columns = ['lat','lon','h','canopy'])\n",
    "#         print(' Done.')"
   ]
  },
  {
   "cell_type": "markdown",
   "id": "b65219e6-faeb-41e7-8897-f2d29616eb73",
   "metadata": {},
   "source": [
    "# Specify the parameters for the ICESat-2 data\n",
    "Browse OpenAltimetry to find a track / region of interest!"
   ]
  },
  {
   "cell_type": "code",
   "execution_count": 4,
   "id": "6b211816-3e8a-418a-a7ba-1ee19fbca1b7",
   "metadata": {},
   "outputs": [],
   "source": [
    "# # amery icesat-2 doline by grounding line\n",
    "# kwargs = {'latlims': [-71.3364, -71.280],\n",
    "#           'lonlims': [71.450, 71.536],\n",
    "#           'track': 721,\n",
    "#           'beam': 'gt3r'}\n",
    "# date = '2019-11-13'\n",
    "\n",
    "# # weird amery 'lake' / blue ice? \n",
    "# # 'https://openaltimetry.org/data/api/icesat2/atlXX?date=2019-01-02&minx=67.4148727485178&miny=-72.43414566400564&maxx=67.42175602368928&maxy=-72.41913255011958&trackId=81&beamName=gt3l&outputFormat=json&client=jupyter'\n",
    "# kwargs = {'latlims': [-72.44, -72.418],\n",
    "#           'lonlims': [67.40, 67.44],\n",
    "#           'track': 81,\n",
    "#           'beam': 'gt3r'} # also in gt3l (strong beam)\n",
    "# date = '2019-01-02'\n",
    "\n",
    "# lake on Nivlisen ice shelf\n",
    "# http://openaltimetry.org/data/api/icesat2/atl03?date=2020-01-16&minx=12.107692195781404&miny=-70.34956862465471&maxx=12.426364789894341&maxy=-70.2449105354736&trackId=312&beamName=gt3r&beamName=gt3l&beamName=gt2r&beamName=gt2l&beamName=gt1r&beamName=gt1l&outputFormat=json\n",
    "kwargs = {'latlims': [-70.34957, -70.24491],\n",
    "          'lonlims': [12.10769, 12.42636],\n",
    "          'track': 312,\n",
    "          'beam': 'gt2r'} # also in gt2l (weak beam)\n",
    "date = '2020-01-16'"
   ]
  },
  {
   "cell_type": "markdown",
   "id": "c93760bf-d496-40e3-9d84-b68732f80899",
   "metadata": {},
   "source": [
    "### Now download the data"
   ]
  },
  {
   "cell_type": "code",
   "execution_count": 5,
   "id": "5b57e6e0-63bb-46bb-afc7-d5e9824c2560",
   "metadata": {},
   "outputs": [
    {
     "name": "stdout",
     "output_type": "stream",
     "text": [
      "OpenAltimetry API URL: https://openaltimetry.org/data/api/icesat2/atlXX?date=2020-01-16&minx=12.10769&miny=-70.34957&maxx=12.42636&maxy=-70.24491&trackId=312&beamName=gt2r&outputFormat=json&client=jupyter\n",
      "Date: 2020-01-16\n",
      "Track: 312\n",
      "Beam: gt2r\n",
      "Latitude limits: [-70.34957, -70.24491]\n",
      "Longitude limits: [12.10769, 12.42636]\n",
      "---> requesting ATL03 data... Done.\n",
      "---> requesting ATL06 data... Done.\n",
      "---> requesting ATL08 data... Done.\n"
     ]
    }
   ],
   "source": [
    "is2data = dataCollector(date=date,**kwargs)\n",
    "is2data.requestData()"
   ]
  },
  {
   "cell_type": "markdown",
   "id": "e57df456-bf5a-4fc9-add8-ade7c2d7c774",
   "metadata": {},
   "source": [
    "### The ATL03 / ATL06 / ATL08 data are available as pandas dataframes"
   ]
  },
  {
   "cell_type": "code",
   "execution_count": 6,
   "id": "1e97df09-1925-4be1-bd74-c5254dcda6b8",
   "metadata": {},
   "outputs": [
    {
     "data": {
      "text/html": [
       "<div>\n",
       "<style scoped>\n",
       "    .dataframe tbody tr th:only-of-type {\n",
       "        vertical-align: middle;\n",
       "    }\n",
       "\n",
       "    .dataframe tbody tr th {\n",
       "        vertical-align: top;\n",
       "    }\n",
       "\n",
       "    .dataframe thead th {\n",
       "        text-align: right;\n",
       "    }\n",
       "</style>\n",
       "<table border=\"1\" class=\"dataframe\">\n",
       "  <thead>\n",
       "    <tr style=\"text-align: right;\">\n",
       "      <th></th>\n",
       "      <th>lat</th>\n",
       "      <th>lon</th>\n",
       "      <th>h</th>\n",
       "    </tr>\n",
       "  </thead>\n",
       "  <tbody>\n",
       "    <tr>\n",
       "      <th>0</th>\n",
       "      <td>-70.245025</td>\n",
       "      <td>12.299825</td>\n",
       "      <td>45.887184</td>\n",
       "    </tr>\n",
       "    <tr>\n",
       "      <th>1</th>\n",
       "      <td>-70.245202</td>\n",
       "      <td>12.299762</td>\n",
       "      <td>45.831590</td>\n",
       "    </tr>\n",
       "    <tr>\n",
       "      <th>2</th>\n",
       "      <td>-70.245379</td>\n",
       "      <td>12.299698</td>\n",
       "      <td>45.780262</td>\n",
       "    </tr>\n",
       "    <tr>\n",
       "      <th>3</th>\n",
       "      <td>-70.245556</td>\n",
       "      <td>12.299635</td>\n",
       "      <td>45.789750</td>\n",
       "    </tr>\n",
       "    <tr>\n",
       "      <th>4</th>\n",
       "      <td>-70.245734</td>\n",
       "      <td>12.299571</td>\n",
       "      <td>45.816616</td>\n",
       "    </tr>\n",
       "    <tr>\n",
       "      <th>...</th>\n",
       "      <td>...</td>\n",
       "      <td>...</td>\n",
       "      <td>...</td>\n",
       "    </tr>\n",
       "    <tr>\n",
       "      <th>551</th>\n",
       "      <td>-70.348776</td>\n",
       "      <td>12.261042</td>\n",
       "      <td>45.261272</td>\n",
       "    </tr>\n",
       "    <tr>\n",
       "      <th>552</th>\n",
       "      <td>-70.348953</td>\n",
       "      <td>12.260975</td>\n",
       "      <td>45.195520</td>\n",
       "    </tr>\n",
       "    <tr>\n",
       "      <th>553</th>\n",
       "      <td>-70.349130</td>\n",
       "      <td>12.260908</td>\n",
       "      <td>45.111626</td>\n",
       "    </tr>\n",
       "    <tr>\n",
       "      <th>554</th>\n",
       "      <td>-70.349307</td>\n",
       "      <td>12.260842</td>\n",
       "      <td>45.032890</td>\n",
       "    </tr>\n",
       "    <tr>\n",
       "      <th>555</th>\n",
       "      <td>-70.349484</td>\n",
       "      <td>12.260777</td>\n",
       "      <td>44.909203</td>\n",
       "    </tr>\n",
       "  </tbody>\n",
       "</table>\n",
       "<p>556 rows × 3 columns</p>\n",
       "</div>"
      ],
      "text/plain": [
       "           lat        lon          h\n",
       "0   -70.245025  12.299825  45.887184\n",
       "1   -70.245202  12.299762  45.831590\n",
       "2   -70.245379  12.299698  45.780262\n",
       "3   -70.245556  12.299635  45.789750\n",
       "4   -70.245734  12.299571  45.816616\n",
       "..         ...        ...        ...\n",
       "551 -70.348776  12.261042  45.261272\n",
       "552 -70.348953  12.260975  45.195520\n",
       "553 -70.349130  12.260908  45.111626\n",
       "554 -70.349307  12.260842  45.032890\n",
       "555 -70.349484  12.260777  44.909203\n",
       "\n",
       "[556 rows x 3 columns]"
      ]
     },
     "execution_count": 6,
     "metadata": {},
     "output_type": "execute_result"
    }
   ],
   "source": [
    "is2data.atl06"
   ]
  },
  {
   "cell_type": "markdown",
   "id": "9cffb997-9563-40ed-adb1-b8f2a024333a",
   "metadata": {},
   "source": [
    "### plot the ATL03 and ATL06 data"
   ]
  },
  {
   "cell_type": "code",
   "execution_count": 7,
   "id": "cfa64464-0e6c-4769-9ed3-679a25338c6a",
   "metadata": {},
   "outputs": [
    {
     "data": {
      "application/vnd.jupyter.widget-view+json": {
       "model_id": "48f2e0a4a75a4a5ca364d5ccb45e4f65",
       "version_major": 2,
       "version_minor": 0
      },
      "text/plain": [
       "Canvas(toolbar=Toolbar(toolitems=[('Home', 'Reset original view', 'home', 'home'), ('Back', 'Back to previous …"
      ]
     },
     "metadata": {},
     "output_type": "display_data"
    },
    {
     "data": {
      "text/plain": [
       "Text(0.5, 1.0, 'ICESat-2 track 312 GT2R on 2020-01-16')"
      ]
     },
     "execution_count": 7,
     "metadata": {},
     "output_type": "execute_result"
    }
   ],
   "source": [
    "fig = plt.figure(figsize=[9,4.5],dpi=100)\n",
    "ax = fig.add_subplot(1,1,1)\n",
    "ax.scatter(is2data.atl03.lat,is2data.atl03.h,s=2,c='k',alpha=0.1,edgecolors='none')\n",
    "h2, = ax.plot(is2data.atl06.lat,is2data.atl06.h,c='r',lw=5, alpha=0.3, label='ATL06 land ice elevation')\n",
    "h1 = ax.scatter(-9999,-9999,s=20,c='k',alpha=0.5,edgecolors='none',label='ATL03 photon cloud')\n",
    "# h2, = ax.plot([-9999, -9998],[-9999, -9998],c='r',lw=1.3, label='ATL06 land ice elevation')\n",
    "ax.set_xlim(kwargs['latlims'])\n",
    "hrange = is2data.atl06.h.max() - is2data.atl06.h.min()\n",
    "ax.set_ylim(is2data.atl06.h.min() - 0.5*hrange ,is2data.atl06.h.max() + 0.5*hrange)\n",
    "ax.set_xlabel('latitude',fontsize=8)\n",
    "ax.set_ylabel('elevation [m]',fontsize=8)\n",
    "ax.tick_params(axis='both', labelsize=7)\n",
    "ax.legend(handles=[h1,h2], loc='lower right', fontsize=7)\n",
    "ax.set_title('ICESat-2 track %d %s on %s' % (kwargs['track'],kwargs['beam'].upper(),date),fontsize=9)"
   ]
  },
  {
   "cell_type": "markdown",
   "id": "0bcb412d-bd86-4da7-8c70-ab81f463a2c3",
   "metadata": {},
   "source": [
    "### How long is this ground track?"
   ]
  },
  {
   "cell_type": "code",
   "execution_count": 8,
   "id": "bcf12521-228f-450c-819d-6b6dc1a93bfa",
   "metadata": {},
   "outputs": [
    {
     "data": {
      "text/plain": [
       "11707.194486037968"
      ]
     },
     "execution_count": 8,
     "metadata": {},
     "output_type": "execute_result"
    }
   ],
   "source": [
    "lat1, lat2 = is2data.atl06.lat[0], is2data.atl06.lat.iloc[-1]\n",
    "lon1, lon2 = is2data.atl06.lon[0], is2data.atl06.lon.iloc[-1]\n",
    "\n",
    "def dist_latlon2meters(lat1, lon1, lat2, lon2):\n",
    "    # returns the distance between two lat/lon coordinate points along the earth's surface in meters\n",
    "    R = 6371000\n",
    "    def deg2rad(deg):\n",
    "        return deg * (np.pi/180)\n",
    "    dlat = deg2rad(lat2-lat1)\n",
    "    dlon = deg2rad(lon2-lon1)\n",
    "    a = np.sin(dlat/2) * np.sin(dlat/2) + np.cos(deg2rad(lat1)) * np.cos(deg2rad(lat2)) * np.sin(dlon/2) * np.sin(dlon/2)\n",
    "    c = 2 * np.arctan2(np.sqrt(a), np.sqrt(1-a))\n",
    "    return R * c\n",
    "\n",
    "dist_xatc = dist_latlon2meters(lat1, lon1, lat2, lon2)\n",
    "dist_xatc"
   ]
  },
  {
   "cell_type": "markdown",
   "id": "00b87af8-f609-4180-87e4-a84d2c102ffd",
   "metadata": {},
   "source": [
    "### add this to the map"
   ]
  },
  {
   "cell_type": "code",
   "execution_count": 94,
   "id": "aa33c611-e2d5-47cf-ba9b-f9744662c3f5",
   "metadata": {},
   "outputs": [
    {
     "data": {
      "application/vnd.jupyter.widget-view+json": {
       "model_id": "283d102dbc9a4f3d83892be41d74eb8f",
       "version_major": 2,
       "version_minor": 0
      },
      "text/plain": [
       "Map(center=[-70.29725446674048, 12.280300997860806], controls=(WidgetControl(options=['position', 'transparent…"
      ]
     },
     "metadata": {},
     "output_type": "display_data"
    }
   ],
   "source": [
    "gtx_geom = ee.Geometry.LineString(coords=list(zip(is2data.atl06.lon,is2data.atl06.lat)), proj='EPSG:4326', geodesic=True)\n",
    "Map = geemap.Map(center=(40, -100), zoom=4)\n",
    "Map.add_basemap('HYBRID')\n",
    "Map.addLayer(ee.FeatureCollection(gtx_geom),{'color': 'red'},'ground track')\n",
    "center_lat = (lat1 + lat2) / 2\n",
    "center_lon = (lon1 + lon2) / 2\n",
    "Map.setCenter(center_lon, center_lat, 7);\n",
    "Map"
   ]
  },
  {
   "cell_type": "markdown",
   "id": "4f515d4e-9111-4fb0-8aab-0fb364029270",
   "metadata": {},
   "source": [
    "### Let's look for Sentinel-2 and Landsat 8 images!"
   ]
  },
  {
   "cell_type": "code",
   "execution_count": 88,
   "id": "ad33783d-28c9-4c52-ad3f-971d1ff1f526",
   "metadata": {},
   "outputs": [],
   "source": [
    "collection_name1 = 'COPERNICUS/S2_SR'  # Sentinel-2 earth engine collection \n",
    "# https://developers.google.com/earth-engine/datasets/catalog/COPERNICUS_S2_SR\n",
    "\n",
    "collection_name2 = 'LANDSAT/LC08/C01/T2'  # Landsat 8 earth engine collection \n",
    "# https://developers.google.com/earth-engine/datasets/catalog/LANDSAT_LC08_C01_T2\n",
    "# Note: Landsat 8 ingestion into Earth Engine seems to not have reached Antarctica yet, so using raw scenes...\n",
    "\n",
    "days_buffer_imagery = 15"
   ]
  },
  {
   "cell_type": "code",
   "execution_count": 89,
   "id": "6dc541ec-bd2a-4b09-bd31-b25155ff72f0",
   "metadata": {},
   "outputs": [
    {
     "name": "stdout",
     "output_type": "stream",
     "text": [
      "number of images +/- 10 days of date requested: 10\n"
     ]
    }
   ],
   "source": [
    "import datetime\n",
    "date_requested = date\n",
    "dateformat = '%Y-%m-%d'\n",
    "datetime_requested = datetime.datetime.strptime(date_requested, dateformat)\n",
    "search_start = (datetime_requested - datetime.timedelta(days=days_buffer_imagery)).strftime(dateformat)\n",
    "search_end = (datetime_requested + datetime.timedelta(days=days_buffer_imagery)).strftime(dateformat)\n",
    "\n",
    "# the point of interest (center of the track) as an Earth Engine Geometry\n",
    "poi = ee.Geometry.Point(center_lon, center_lat)\n",
    "\n",
    "# the region of interest around it\n",
    "buffer_around_center_meters = dist_xatc*0.8\n",
    "roi = poi.buffer(buffer_around_center_meters)\n",
    "\n",
    "# the collection to query: \n",
    "# 1) merge Landsat 8 and Sentinel-2 collections\n",
    "# 2) filter by acquisition date\n",
    "# 3) filter by the point of interest\n",
    "# 4) sort by acquisition date\n",
    "collection = ee.ImageCollection(collection_name1) \\\n",
    "    .merge(ee.ImageCollection(collection_name2)) \\\n",
    "    .filterDate(search_start, search_end) \\\n",
    "    .filterBounds(poi) \\\n",
    "    .sort('system:time_start') \n",
    "\n",
    "# clip to the region of interest\n",
    "def clip(img): return img.clip(roi)\n",
    "collection = collection.map(clip);\n",
    "\n",
    "# get info \n",
    "n_imgs = collection.size().getInfo()\n",
    "info = collection.getInfo()\n",
    "print('number of images +/- %d days of date requested: %d' % (days_buffer_imagery, n_imgs))"
   ]
  },
  {
   "cell_type": "code",
   "execution_count": 90,
   "id": "aeb0467a-4d46-4c0b-a239-1df9ed6b84a4",
   "metadata": {},
   "outputs": [
    {
     "name": "stdout",
     "output_type": "stream",
     "text": [
      "2020-01-06 ( 10 days before ICESat-2): COPERNICUS/S2_SR/20200106T080919_20200106T080922_T32DPH\n",
      "2020-01-06 ( 10 days before ICESat-2): COPERNICUS/S2_SR/20200106T080919_20200106T080922_T32DPG\n",
      "2020-01-06 ( 10 days before ICESat-2): LANDSAT/LC08/C01/T2/LC08_164110_20200107\n",
      "2020-01-11 (  5 days before ICESat-2): LANDSAT/LC08/C01/T2/LC08_167109_20200112\n",
      "2020-01-13 (  3 days before ICESat-2): LANDSAT/LC08/C01/T2/LC08_165110_20200114\n",
      "2020-01-16 (  0 days after ICESat-2): COPERNICUS/S2_SR/20200116T080919_20200116T080921_T32DPH\n",
      "2020-01-16 (  0 days after ICESat-2): COPERNICUS/S2_SR/20200116T080919_20200116T080921_T32DPG\n",
      "2020-01-20 (  4 days after ICESat-2): LANDSAT/LC08/C01/T2/LC08_166109_20200121\n",
      "2020-01-20 (  4 days after ICESat-2): LANDSAT/LC08/C01/T2/LC08_166110_20200121\n",
      "2020-01-22 (  6 days after ICESat-2): LANDSAT/LC08/C01/T2/LC08_164110_20200123\n"
     ]
    },
    {
     "data": {
      "application/vnd.jupyter.widget-view+json": {
       "model_id": "1a032ad85bc34568aa4277b760fd9f9e",
       "version_major": 2,
       "version_minor": 0
      },
      "text/plain": [
       "Map(center=[40, -100], controls=(WidgetControl(options=['position', 'transparent_bg'], widget=HBox(children=(T…"
      ]
     },
     "metadata": {},
     "output_type": "display_data"
    }
   ],
   "source": [
    "Map = geemap.Map(center=(40, -100), zoom=4)\n",
    "Map.add_basemap('HYBRID')\n",
    "\n",
    "# get a list of images to access them in sequence (there may be a better way to do this...)\n",
    "list_of_images = collection.toList(n_imgs)\n",
    "for i in range(n_imgs):\n",
    "    \n",
    "    # get the relevant info\n",
    "    thisDate = datetime.datetime.fromtimestamp(info['features'][i]['properties']['system:time_start']/1e3)\n",
    "    dtstr = thisDate.strftime(dateformat)\n",
    "    dt = (thisDate - datetime_requested).days\n",
    "    ID = info['features'][i]['id']\n",
    "    rel = 'before' if dt<0 else 'after'\n",
    "    print('%02d: %s (%3d days %s ICESat-2): %s' % (i, dtstr, np.abs(dt), rel, ID))\n",
    "    \n",
    "    # normalize the image to [0.0, 1.0] range, based on max and min in the rgb bands\n",
    "    img = ee.Image(list_of_images.get(i))\n",
    "    rgb = img.select('B4', 'B3', 'B2')\n",
    "    rgbmax = rgb.reduce(ee.Reducer.max()).reduceRegion(reducer=ee.Reducer.max(), geometry=rgb.geometry(), bestEffort=True, maxPixels=1e6)\n",
    "    rgbmin = rgb.reduce(ee.Reducer.min()).reduceRegion(reducer=ee.Reducer.min(), geometry=rgb.geometry(), bestEffort=True, maxPixels=1e6)\n",
    "    rgb = rgb.unitScale(ee.Number(rgbmin.get('min')), ee.Number(rgbmax.get('max'))).clamp(0.0, 1.0)\n",
    "    \n",
    "    # only show the first layer, then can toggle others on in map\n",
    "    show_layer = True if i==0 else False\n",
    "    \n",
    "    # if the image is Landsat 8, then pan-sharpen the image\n",
    "    if 'LANDSAT' in ID: \n",
    "        pan = img.select('B8').unitScale(ee.Number(rgbmin.get('min')), ee.Number(rgbmax.get('max'))).clamp(0.0, 1.0)\n",
    "        huesat = rgb.rgbToHsv().select('hue', 'saturation')\n",
    "        upres = ee.Image.cat(huesat, pan).hsvToRgb()\n",
    "        Map.addLayer(upres, {'min': 0, 'max': 1}, name='%02d: %s (L8)'%(i,dtstr), shown=show_layer)\n",
    "    \n",
    "    # if the image is Sentinel-2, then just plot the\n",
    "    else:\n",
    "        Map.addLayer(rgb, {'min': 0, 'max': 1}, name='%02d: %s (S2)'%(i,dtstr), shown=show_layer)\n",
    "\n",
    "# show the ground track and center the map on it\n",
    "Map.addLayer(ee.FeatureCollection(gtx_geom),{'color': 'red'},'ground track')\n",
    "Map\n",
    "Map.centerObject(gtx_geom)"
   ]
  },
  {
   "cell_type": "code",
   "execution_count": 92,
   "id": "c442f167-8ab3-4d53-94b8-1968daaa3f7f",
   "metadata": {},
   "outputs": [],
   "source": []
  },
  {
   "cell_type": "code",
   "execution_count": null,
   "id": "8047ac67-8e86-4b04-b583-740267a9fefd",
   "metadata": {},
   "outputs": [],
   "source": []
  }
 ],
 "metadata": {
  "kernelspec": {
   "display_name": "ee-map-hackweek",
   "language": "python",
   "name": "ee-map-hackweek"
  },
  "language_info": {
   "codemirror_mode": {
    "name": "ipython",
    "version": 3
   },
   "file_extension": ".py",
   "mimetype": "text/x-python",
   "name": "python",
   "nbconvert_exporter": "python",
   "pygments_lexer": "ipython3",
   "version": "3.9.4"
  }
 },
 "nbformat": 4,
 "nbformat_minor": 5
}
